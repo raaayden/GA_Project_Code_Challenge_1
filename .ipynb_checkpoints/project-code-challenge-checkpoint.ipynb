{
 "cells": [
  {
   "cell_type": "markdown",
   "metadata": {},
   "source": [
    "<img src=\"http://imgur.com/1ZcRyrc.png\" style=\"float: left; margin: 20px; height: 55px\">\n",
    "\n",
    "# Project 1: Python Coding Exercises\n",
    "\n",
    "_Authors: Joseph Nelson (DC) _\n",
    "\n",
    "---"
   ]
  },
  {
   "cell_type": "markdown",
   "metadata": {},
   "source": [
    "The following code challenges are drawn from common exercises used in technical interviews.\n",
    "\n",
    "Please note that there may be several ways to approach each challenge. If you get stuck, try mapping out your approach in pseudocode first. Finally, while solutions to problems like these may be found online, remember that if you copy/paste code that you can't explain, you'll be missing out on the point of the project. The only way to truly learn a new skill is through practice, trial, and error - we can only help you improve by understanding where you are having trouble."
   ]
  },
  {
   "cell_type": "markdown",
   "metadata": {},
   "source": [
    "### Challenge 1: Largest Palindrome\n",
    "A palindromic number reads the same both ways. For example, 1234321 is a palindrome. The largest palindrome made from the product of two two-digit numbers is 9009 = 91 × 99. Find the largest palindrome made from the product of two three-digit numbers. Afterward, write a brief explanation walking through your code's logic in markdown."
   ]
  },
  {
   "cell_type": "markdown",
   "metadata": {},
   "source": [
    "1. First we have to get the number of products so we create the range of i and j that is between three-digit numbers. \n",
    "But make it reverse since we want to find the highest.\n",
    "2. After getting the range we will find the product of both numbers.\n",
    "3. Later convert it to string and compare with its reversed string."
   ]
  },
  {
   "cell_type": "code",
   "execution_count": 32,
   "metadata": {},
   "outputs": [
    {
     "name": "stdout",
     "output_type": "stream",
     "text": [
      "i: 995 j: 583\n",
      "580085\n",
      "i: 993 j: 913\n",
      "906609\n",
      "the largest palindrome product of two 3 digit number is : 906609\n"
     ]
    }
   ],
   "source": [
    "#Initate the first number as 0\n",
    "number = 0\n",
    "#create the first range which is 999 stops at 100 with decrement of 1\n",
    "for i in range(999, 100, -1):\n",
    "    #create the second range starts with the i and stops at 100 with decrement of 1 \n",
    "    for j in range(i, 100, -1):\n",
    "        #find the product of both i and j\n",
    "        x = i * j\n",
    "        #the product must be bigger than number\n",
    "        if x > number:\n",
    "            #convert the product to a string\n",
    "            str_n = str(i * j)\n",
    "            #compare the string with its reversed string\n",
    "            if (str_n == str_n[::-1]):\n",
    "                #if it is the same then that number is a palindrome\n",
    "                #then initialize number to x as that is a palindrome number\n",
    "                number = x\n",
    "                print(\"i: {} j: {}\".format(i,j))\n",
    "                print(number)\n",
    "                \n",
    "print(\"the largest palindrome product of two 3 digit number is : {}\".format(number))"
   ]
  },
  {
   "cell_type": "markdown",
   "metadata": {},
   "source": [
    "\n",
    "### Challenge 2: Summation of Primes\n",
    "The sum of the primes below 10 is 2 + 3 + 5 + 7 = 17. Find the sum of all the primes below 2,000. Afterward, write a brief explanation walking through your code's logic in markdown."
   ]
  },
  {
   "cell_type": "markdown",
   "metadata": {},
   "source": [
    "We need to find a positive natural number that is below 2000 by setting the range then find for each number if it have a factor or not.\n",
    "Once we find it doesnt have a factor we will take that number and sum with its previous number so we get the total of all the primes."
   ]
  },
  {
   "cell_type": "code",
   "execution_count": 41,
   "metadata": {},
   "outputs": [
    {
     "name": "stdout",
     "output_type": "stream",
     "text": [
      "Total sum of all prime numbers below 2000: 277050\n"
     ]
    }
   ],
   "source": [
    "#Initialize the total to 0\n",
    "total = 0\n",
    "#Create a range of number from 1 to 2000\n",
    "for num in range(1,2000):\n",
    "    #Prime number is a number greater than 1\n",
    "    if num > 1:\n",
    "        #Check each number from range of 2 to num\n",
    "        #this to finds factors for numbers between 2 to num\n",
    "        for i in range(2, num):\n",
    "            if (num % i) == 0:\n",
    "                break\n",
    "        #this else block will get the prime number \n",
    "        #which is the number that has no factors \n",
    "        else:\n",
    "            #get the total with the sum of num which is the total of prime numbers\n",
    "            #print(num)\n",
    "            total += num\n",
    "        \n",
    "#print the total        \n",
    "print(\"Total sum of all prime numbers below 2000: {}\".format(total))\n",
    "            "
   ]
  },
  {
   "cell_type": "markdown",
   "metadata": {},
   "source": [
    "### Challenge 3: Multiples of 3 and 5\n",
    "If we list all of the natural numbers below 10 that are multiples of 3 or 5, we get 3, 5, 6, and 9. The sum of these multiples is 23. Find the sum of all the multiples of 3 and 5 below 1,000. Afterward, write a brief explanation walking through your code's logic in markdown."
   ]
  },
  {
   "cell_type": "markdown",
   "metadata": {},
   "source": [
    "This is similar with primes but we just have to find the number that is divisible by 3 or 5, then find its total."
   ]
  },
  {
   "cell_type": "code",
   "execution_count": 43,
   "metadata": {},
   "outputs": [
    {
     "name": "stdout",
     "output_type": "stream",
     "text": [
      "Total sum of all numbers that multiples of 3 or 5 below 1000: 233168\n"
     ]
    }
   ],
   "source": [
    "#Initialize the total to 0\n",
    "total = 0\n",
    "#Create a range of number from 1 to 1000\n",
    "for num in range(1,1000):\n",
    "    #check if the number is divisible by 5 or 3 then get its total\n",
    "    if num % 5 == 0 or num % 3 == 0:\n",
    "        total += num\n",
    "        \n",
    "#print the total        \n",
    "print(\"Total sum of all numbers that multiples of 3 or 5 below 1000: {}\".format(total))"
   ]
  },
  {
   "cell_type": "markdown",
   "metadata": {},
   "source": [
    "### Challenge 4: String Compressor\n",
    "Implement a method to perform basic string compression using the counts of repeated characters. (This is called run-length encoding.) For example, the string \"aabcccccaaa\" would become a2b1c5a3. If the “compressed” string would not become smaller than the original string, your method should return the original string. You can assume the string has only uppercase and lowercase letters (a–z). Specify whether your solution is case sensitive or case insensitive and what you would need to change to make it the other. Afterward, write a brief explanation walking through your code's logic in markdown."
   ]
  },
  {
   "cell_type": "markdown",
   "metadata": {},
   "source": [
    "Initialize the string as an empty string, \n",
    "then for each character in the range of length of the string we check if the character is the same letter as the next. \n",
    "if the letter is the same add 1 to the count.\n",
    "if they're not the same then add the count and the letter to the compressed string.\n",
    "lastly add the last letter to the compressed string.\n"
   ]
  },
  {
   "cell_type": "code",
   "execution_count": 58,
   "metadata": {},
   "outputs": [],
   "source": [
    "def compress(string):\n",
    "    \n",
    "    #Declare a compress string\n",
    "    compString = \"\"\n",
    "    #set count\n",
    "    count = 1\n",
    "    \n",
    "    #add the first character in string\n",
    "    compString += string[0]\n",
    "    \n",
    "    #create a for loop for the length of the string \n",
    "    for c in range(len(string)-1):\n",
    "        #if the character in the string is the same letter\n",
    "        #add count if same as previous\n",
    "        if(string[c] == string[c+1]):\n",
    "            count += 1\n",
    "        else:\n",
    "            #if the count is more than 1\n",
    "            #then the compress string will add the total count\n",
    "            if(count > 1):\n",
    "                compString += str(count)\n",
    "            compString += string[c+1]\n",
    "            count = 1\n",
    "    #combine with the last character\n",
    "    if(count > 1):\n",
    "        compString += str(count)\n",
    "        #print(\"final - {}\".format(compString))\n",
    "    return compString\n",
    "    "
   ]
  },
  {
   "cell_type": "code",
   "execution_count": 57,
   "metadata": {},
   "outputs": [
    {
     "name": "stdout",
     "output_type": "stream",
     "text": [
      "3 - a2A\n",
      "3 - a2Ab\n",
      "3 - a2Ab2B\n"
     ]
    },
    {
     "data": {
      "text/plain": [
       "'a2Ab2B3'"
      ]
     },
     "execution_count": 57,
     "metadata": {},
     "output_type": "execute_result"
    }
   ],
   "source": [
    "compress(\"aaAbbBBB\")"
   ]
  },
  {
   "cell_type": "markdown",
   "metadata": {},
   "source": [
    "### *BONUS* Challenge: FizzBuzz\n",
    "Write a program that prints all of the numbers from 1 to 100. For multiples of 3, instead of the number, print \"Fizz;\" for multiples of 5, print \"Buzz.\" For numbers that are multiples of both 3 and 5, print \"FizzBuzz.\" Afterward, write a brief explanation walking through your code's logic in markdown."
   ]
  },
  {
   "cell_type": "code",
   "execution_count": 44,
   "metadata": {},
   "outputs": [
    {
     "name": "stdout",
     "output_type": "stream",
     "text": [
      "1\n",
      "2\n",
      "fizz\n",
      "4\n",
      "buzz\n",
      "fizz\n",
      "7\n",
      "8\n",
      "fizz\n",
      "buzz\n",
      "11\n",
      "fizz\n",
      "13\n",
      "14\n",
      "fizzbuzz\n",
      "16\n",
      "17\n",
      "fizz\n",
      "19\n",
      "buzz\n",
      "fizz\n",
      "22\n",
      "23\n",
      "fizz\n",
      "buzz\n",
      "26\n",
      "fizz\n",
      "28\n",
      "29\n",
      "fizzbuzz\n",
      "31\n",
      "32\n",
      "fizz\n",
      "34\n",
      "buzz\n",
      "fizz\n",
      "37\n",
      "38\n",
      "fizz\n",
      "buzz\n",
      "41\n",
      "fizz\n",
      "43\n",
      "44\n",
      "fizzbuzz\n",
      "46\n",
      "47\n",
      "fizz\n",
      "49\n",
      "buzz\n",
      "fizz\n",
      "52\n",
      "53\n",
      "fizz\n",
      "buzz\n",
      "56\n",
      "fizz\n",
      "58\n",
      "59\n",
      "fizzbuzz\n",
      "61\n",
      "62\n",
      "fizz\n",
      "64\n",
      "buzz\n",
      "fizz\n",
      "67\n",
      "68\n",
      "fizz\n",
      "buzz\n",
      "71\n",
      "fizz\n",
      "73\n",
      "74\n",
      "fizzbuzz\n",
      "76\n",
      "77\n",
      "fizz\n",
      "79\n",
      "buzz\n",
      "fizz\n",
      "82\n",
      "83\n",
      "fizz\n",
      "buzz\n",
      "86\n",
      "fizz\n",
      "88\n",
      "89\n",
      "fizzbuzz\n",
      "91\n",
      "92\n",
      "fizz\n",
      "94\n",
      "buzz\n",
      "fizz\n",
      "97\n",
      "98\n",
      "fizz\n",
      "buzz\n"
     ]
    }
   ],
   "source": [
    "#get range 1 to 100\n",
    "for num in range(1, 101):\n",
    "    #check if number divisible by 3 and 5 \n",
    "    #print fizzbuzz\n",
    "    if num % 15 == 0:\n",
    "        print('fizzbuzz')\n",
    "    #check if number divisible by 5 \n",
    "    #print buzz\n",
    "    elif num % 5 == 0:\n",
    "        print('buzz')\n",
    "    #check if number divisible by 3  \n",
    "    #print fizz\n",
    "    elif num % 3 == 0:\n",
    "        print('fizz')\n",
    "    #else print the number\n",
    "    else:\n",
    "        print(num)      "
   ]
  }
 ],
 "metadata": {
  "anaconda-cloud": {},
  "kernelspec": {
   "display_name": "Python 3",
   "language": "python",
   "name": "python3"
  },
  "language_info": {
   "codemirror_mode": {
    "name": "ipython",
    "version": 3
   },
   "file_extension": ".py",
   "mimetype": "text/x-python",
   "name": "python",
   "nbconvert_exporter": "python",
   "pygments_lexer": "ipython3",
   "version": "3.8.8"
  }
 },
 "nbformat": 4,
 "nbformat_minor": 2
}
